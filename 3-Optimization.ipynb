{
    "cells": [
        {
            "cell_type": "markdown",
            "metadata": {},
            "source": "# Introduction\n\nThis notebook is used by Decision Optimization (DO) model `PredictiveMaintenance` to solve optimization scenarios.  \n\nThe model takes into account predicted failure day for each machine, planned production numbers, cost of maintenance if performed before a machine fails, cost of repair if machine fails before maintenance, cost of lost production due to maintenance or repair, any opportunity cost of scheduling maintenance earlier than the machine's remaining life, and maintenance crew availability. It schedules maintenance for each machine in order to maximize production output while minimizing all costs."
        },
        {
            "cell_type": "markdown",
            "metadata": {},
            "source": "# Load and Preprocess Input Data\n\nLoad input data from scenario input tables. `predicted_failure` input table contains predictions from our linear regression model for which day a machine is going to fail.  `Fixed maintenance` is used to specify any manually chosen (fixed) days for maintenance that should be taken into account by the optimization model.  For more detailed descriptions of the inputs, please refer to the project README file."
        },
        {
            "cell_type": "code",
            "execution_count": 27,
            "metadata": {},
            "outputs": [
                {
                    "data": {
                        "text/html": "<div>\n<style scoped>\n    .dataframe tbody tr th:only-of-type {\n        vertical-align: middle;\n    }\n\n    .dataframe tbody tr th {\n        vertical-align: top;\n    }\n\n    .dataframe thead th {\n        text-align: right;\n    }\n</style>\n<table border=\"1\" class=\"dataframe\">\n  <thead>\n    <tr style=\"text-align: right;\">\n      <th></th>\n      <th>id</th>\n    </tr>\n  </thead>\n  <tbody>\n    <tr>\n      <th>0</th>\n      <td>Day-01</td>\n    </tr>\n    <tr>\n      <th>1</th>\n      <td>Day-02</td>\n    </tr>\n    <tr>\n      <th>2</th>\n      <td>Day-03</td>\n    </tr>\n    <tr>\n      <th>3</th>\n      <td>Day-04</td>\n    </tr>\n    <tr>\n      <th>4</th>\n      <td>Day-05</td>\n    </tr>\n  </tbody>\n</table>\n</div>",
                        "text/plain": "       id\n0  Day-01\n1  Day-02\n2  Day-03\n3  Day-04\n4  Day-05"
                    },
                    "execution_count": 27,
                    "metadata": {},
                    "output_type": "execute_result"
                }
            ],
            "source": "# The code was removed by Watson Studio for sharing."
        },
        {
            "cell_type": "code",
            "execution_count": 28,
            "metadata": {},
            "outputs": [
                {
                    "data": {
                        "text/html": "<div>\n<style scoped>\n    .dataframe tbody tr th:only-of-type {\n        vertical-align: middle;\n    }\n\n    .dataframe tbody tr th {\n        vertical-align: top;\n    }\n\n    .dataframe thead th {\n        text-align: right;\n    }\n</style>\n<table border=\"1\" class=\"dataframe\">\n  <thead>\n    <tr style=\"text-align: right;\">\n      <th></th>\n      <th>id</th>\n      <th>capacity</th>\n      <th>remaining life</th>\n      <th>cost of maintenance</th>\n      <th>maintenance loss</th>\n      <th>cost of repair</th>\n      <th>repair loss</th>\n      <th>loss per life day</th>\n      <th>production value unit</th>\n    </tr>\n  </thead>\n  <tbody>\n    <tr>\n      <th>0</th>\n      <td>M-01</td>\n      <td>100</td>\n      <td>14</td>\n      <td>50</td>\n      <td>50</td>\n      <td>100</td>\n      <td>100</td>\n      <td>20</td>\n      <td>10</td>\n    </tr>\n    <tr>\n      <th>1</th>\n      <td>M-02</td>\n      <td>120</td>\n      <td>12</td>\n      <td>50</td>\n      <td>50</td>\n      <td>100</td>\n      <td>100</td>\n      <td>20</td>\n      <td>10</td>\n    </tr>\n    <tr>\n      <th>2</th>\n      <td>M-03</td>\n      <td>140</td>\n      <td>12</td>\n      <td>50</td>\n      <td>50</td>\n      <td>100</td>\n      <td>100</td>\n      <td>20</td>\n      <td>10</td>\n    </tr>\n    <tr>\n      <th>3</th>\n      <td>M-04</td>\n      <td>140</td>\n      <td>9</td>\n      <td>50</td>\n      <td>50</td>\n      <td>100</td>\n      <td>100</td>\n      <td>20</td>\n      <td>10</td>\n    </tr>\n    <tr>\n      <th>4</th>\n      <td>M-05</td>\n      <td>90</td>\n      <td>10</td>\n      <td>50</td>\n      <td>50</td>\n      <td>100</td>\n      <td>100</td>\n      <td>20</td>\n      <td>10</td>\n    </tr>\n  </tbody>\n</table>\n</div>",
                        "text/plain": "     id  capacity  remaining life  cost of maintenance  maintenance loss  \\\n0  M-01       100              14                   50                50   \n1  M-02       120              12                   50                50   \n2  M-03       140              12                   50                50   \n3  M-04       140               9                   50                50   \n4  M-05        90              10                   50                50   \n\n   cost of repair  repair loss  loss per life day  production value unit  \n0             100          100                 20                     10  \n1             100          100                 20                     10  \n2             100          100                 20                     10  \n3             100          100                 20                     10  \n4             100          100                 20                     10  "
                    },
                    "execution_count": 28,
                    "metadata": {},
                    "output_type": "execute_result"
                }
            ],
            "source": "\nbody = client_b1267f57e7aa4cd1b558205e90b442cf.get_object(Bucket='predictivemaintenance-donotdelete-pr-mlejlc5nq1ttru',Key='machine.csv')['Body']\n# add missing __iter__ method, so pandas accepts body as file-like object\nif not hasattr(body, \"__iter__\"): body.__iter__ = types.MethodType( __iter__, body )\n\ndf_machine = pd.read_csv(body)\ndf_machine.head()\n"
        },
        {
            "cell_type": "code",
            "execution_count": 29,
            "metadata": {},
            "outputs": [
                {
                    "data": {
                        "text/html": "<div>\n<style scoped>\n    .dataframe tbody tr th:only-of-type {\n        vertical-align: middle;\n    }\n\n    .dataframe tbody tr th {\n        vertical-align: top;\n    }\n\n    .dataframe thead th {\n        text-align: right;\n    }\n</style>\n<table border=\"1\" class=\"dataframe\">\n  <thead>\n    <tr style=\"text-align: right;\">\n      <th></th>\n      <th></th>\n      <th>failure</th>\n    </tr>\n    <tr>\n      <th>machine</th>\n      <th>day</th>\n      <th></th>\n    </tr>\n  </thead>\n  <tbody>\n    <tr>\n      <th rowspan=\"5\" valign=\"top\">M-01</th>\n      <th>Day-01</th>\n      <td>0</td>\n    </tr>\n    <tr>\n      <th>Day-02</th>\n      <td>0</td>\n    </tr>\n    <tr>\n      <th>Day-03</th>\n      <td>0</td>\n    </tr>\n    <tr>\n      <th>Day-04</th>\n      <td>0</td>\n    </tr>\n    <tr>\n      <th>Day-05</th>\n      <td>0</td>\n    </tr>\n  </tbody>\n</table>\n</div>",
                        "text/plain": "                failure\nmachine day            \nM-01    Day-01        0\n        Day-02        0\n        Day-03        0\n        Day-04        0\n        Day-05        0"
                    },
                    "execution_count": 29,
                    "metadata": {},
                    "output_type": "execute_result"
                }
            ],
            "source": "\nbody = client_b1267f57e7aa4cd1b558205e90b442cf.get_object(Bucket='predictivemaintenance-donotdelete-pr-mlejlc5nq1ttru',Key='predicted_failure.csv')['Body']\n# add missing __iter__ method, so pandas accepts body as file-like object\nif not hasattr(body, \"__iter__\"): body.__iter__ = types.MethodType( __iter__, body )\n\ndf_predicted_failure = pd.read_csv(body)\ndf_predicted_failure = df_predicted_failure.set_index(['machine', 'day'])\ndf_predicted_failure.head()\n"
        },
        {
            "cell_type": "code",
            "execution_count": 30,
            "metadata": {},
            "outputs": [
                {
                    "data": {
                        "text/html": "<div>\n<style scoped>\n    .dataframe tbody tr th:only-of-type {\n        vertical-align: middle;\n    }\n\n    .dataframe tbody tr th {\n        vertical-align: top;\n    }\n\n    .dataframe thead th {\n        text-align: right;\n    }\n</style>\n<table border=\"1\" class=\"dataframe\">\n  <thead>\n    <tr style=\"text-align: right;\">\n      <th></th>\n      <th></th>\n      <th>maintenance</th>\n    </tr>\n    <tr>\n      <th>machine</th>\n      <th>day</th>\n      <th></th>\n    </tr>\n  </thead>\n  <tbody>\n    <tr>\n      <th rowspan=\"5\" valign=\"top\">M-01</th>\n      <th>Day-01</th>\n      <td>0</td>\n    </tr>\n    <tr>\n      <th>Day-02</th>\n      <td>0</td>\n    </tr>\n    <tr>\n      <th>Day-03</th>\n      <td>0</td>\n    </tr>\n    <tr>\n      <th>Day-04</th>\n      <td>0</td>\n    </tr>\n    <tr>\n      <th>Day-05</th>\n      <td>0</td>\n    </tr>\n  </tbody>\n</table>\n</div>",
                        "text/plain": "                maintenance\nmachine day                \nM-01    Day-01            0\n        Day-02            0\n        Day-03            0\n        Day-04            0\n        Day-05            0"
                    },
                    "execution_count": 30,
                    "metadata": {},
                    "output_type": "execute_result"
                }
            ],
            "source": "\nbody = client_b1267f57e7aa4cd1b558205e90b442cf.get_object(Bucket='predictivemaintenance-donotdelete-pr-mlejlc5nq1ttru',Key='fixed_maintenance.csv')['Body']\n# add missing __iter__ method, so pandas accepts body as file-like object\nif not hasattr(body, \"__iter__\"): body.__iter__ = types.MethodType( __iter__, body )\n\ndf_fixed_maintenance = pd.read_csv(body)\ndf_fixed_maintenance = df_fixed_maintenance.set_index(['machine', 'day'])\ndf_fixed_maintenance.head()\n"
        },
        {
            "cell_type": "code",
            "execution_count": 31,
            "metadata": {},
            "outputs": [
                {
                    "data": {
                        "text/html": "<div>\n<style scoped>\n    .dataframe tbody tr th:only-of-type {\n        vertical-align: middle;\n    }\n\n    .dataframe tbody tr th {\n        vertical-align: top;\n    }\n\n    .dataframe thead th {\n        text-align: right;\n    }\n</style>\n<table border=\"1\" class=\"dataframe\">\n  <thead>\n    <tr style=\"text-align: right;\">\n      <th></th>\n      <th>id</th>\n      <th>value</th>\n    </tr>\n  </thead>\n  <tbody>\n    <tr>\n      <th>0</th>\n      <td>strategy</td>\n      <td>1</td>\n    </tr>\n    <tr>\n      <th>1</th>\n      <td>maintenance crew size</td>\n      <td>2</td>\n    </tr>\n    <tr>\n      <th>2</th>\n      <td>fix_maintenance</td>\n      <td>1</td>\n    </tr>\n  </tbody>\n</table>\n</div>",
                        "text/plain": "                      id  value\n0               strategy      1\n1  maintenance crew size      2\n2        fix_maintenance      1"
                    },
                    "execution_count": 31,
                    "metadata": {},
                    "output_type": "execute_result"
                }
            ],
            "source": "\nbody = client_b1267f57e7aa4cd1b558205e90b442cf.get_object(Bucket='predictivemaintenance-donotdelete-pr-mlejlc5nq1ttru',Key='parameters.csv')['Body']\n# add missing __iter__ method, so pandas accepts body as file-like object\nif not hasattr(body, \"__iter__\"): body.__iter__ = types.MethodType( __iter__, body )\n\ndf_parameters = pd.read_csv(body)\ndf_parameters.head()\n"
        },
        {
            "cell_type": "code",
            "execution_count": 32,
            "metadata": {},
            "outputs": [
                {
                    "data": {
                        "text/html": "<div>\n<style scoped>\n    .dataframe tbody tr th:only-of-type {\n        vertical-align: middle;\n    }\n\n    .dataframe tbody tr th {\n        vertical-align: top;\n    }\n\n    .dataframe thead th {\n        text-align: right;\n    }\n</style>\n<table border=\"1\" class=\"dataframe\">\n  <thead>\n    <tr style=\"text-align: right;\">\n      <th></th>\n      <th></th>\n      <th>production</th>\n    </tr>\n    <tr>\n      <th>machine</th>\n      <th>day</th>\n      <th></th>\n    </tr>\n  </thead>\n  <tbody>\n    <tr>\n      <th rowspan=\"5\" valign=\"top\">M-01</th>\n      <th>Day-01</th>\n      <td>100</td>\n    </tr>\n    <tr>\n      <th>Day-02</th>\n      <td>96</td>\n    </tr>\n    <tr>\n      <th>Day-03</th>\n      <td>97</td>\n    </tr>\n    <tr>\n      <th>Day-04</th>\n      <td>100</td>\n    </tr>\n    <tr>\n      <th>Day-05</th>\n      <td>77</td>\n    </tr>\n  </tbody>\n</table>\n</div>",
                        "text/plain": "                production\nmachine day               \nM-01    Day-01         100\n        Day-02          96\n        Day-03          97\n        Day-04         100\n        Day-05          77"
                    },
                    "execution_count": 32,
                    "metadata": {},
                    "output_type": "execute_result"
                }
            ],
            "source": "\nbody = client_b1267f57e7aa4cd1b558205e90b442cf.get_object(Bucket='predictivemaintenance-donotdelete-pr-mlejlc5nq1ttru',Key='planned_production.csv')['Body']\n# add missing __iter__ method, so pandas accepts body as file-like object\nif not hasattr(body, \"__iter__\"): body.__iter__ = types.MethodType( __iter__, body )\n\ndf_planned_production = pd.read_csv(body)\ndf_planned_production = df_planned_production.set_index(['machine', 'day'])\ndf_planned_production.head()\n"
        },
        {
            "cell_type": "code",
            "execution_count": 33,
            "metadata": {},
            "outputs": [],
            "source": "import pandas as pd\nimport numpy as np\n\nall_machines = df_machine['id'].values\n\nall_days = df_day['id'].values"
        },
        {
            "cell_type": "markdown",
            "metadata": {},
            "source": "`cumul_failure` stands for *cumulative failure* and defines the number of times a machine has failed *before* a given day. To compute cumulative failure for day `i` we sum up the number of failures that have occurred before day `i`."
        },
        {
            "cell_type": "code",
            "execution_count": 34,
            "metadata": {},
            "outputs": [],
            "source": "data_cumul_failure = []\nfor machine in all_machines:\n    for i, d in np.ndenumerate(all_days):\n        cumul = 0\n        for i2, d2 in np.ndenumerate(all_days):\n            if i2==i:\n                break\n            cumul += int(df_predicted_failure.failure[machine, d2])\n        data_cumul_failure.append((machine, d, cumul))\n\ndf_cumul_failure = pd.DataFrame(data_cumul_failure, columns=['machine', 'day', 'cumul_failure'])\ndf_cumul_failure=df_cumul_failure.set_index(['machine', 'day'])"
        },
        {
            "cell_type": "markdown",
            "metadata": {},
            "source": "# Implement Optimization Model\n\n\n## Initialize a CPLEX environment and create a new model object"
        },
        {
            "cell_type": "code",
            "execution_count": 35,
            "metadata": {},
            "outputs": [
                {
                    "name": "stdout",
                    "output_type": "stream",
                    "text": "* system is: Linux 64bit\n* Python version 3.6.8, located at: /opt/conda/envs/Python36/bin/python\n* docplex is present, version is (2, 10, 150)\n* CPLEX library is present, version is 12.9.0.1, located at: /opt/conda/envs/Python36/lib/python3.6/site-packages\n* pandas is present, version is 0.24.1\n"
                }
            ],
            "source": "from docplex.mp.environment import Environment\nenv = Environment()\nenv.print_information()    "
        },
        {
            "cell_type": "code",
            "execution_count": 36,
            "metadata": {},
            "outputs": [],
            "source": "from docplex.mp.model import Model\nmdl = Model(name=\"PredictiveMaintenance\")"
        },
        {
            "cell_type": "markdown",
            "metadata": {},
            "source": "## Define decision variables\n\nDecision variables are the decisions we are trying to make, i.e. the unknowns that the optimization model will assign values to.\n\n`production[m][d]` is an continuous variable that defines how many units of product will be produced on machine `m` on day `d`.\n\n`maintenance[m][d]` is a binary variable that defines whether machine `m` is scheduled for maintenance on day `d`"
        },
        {
            "cell_type": "code",
            "execution_count": 37,
            "metadata": {},
            "outputs": [],
            "source": "production = mdl.continuous_var_matrix(keys1=all_machines, keys2=all_days, name=lambda ns: \"Production_%s_%s\" % (ns[0],ns[1]))\ndf_production = pd.DataFrame({'production': production})\ndf_production.index.names=['all_machines', 'all_days']\n\nmaintenance = mdl.binary_var_matrix(keys1=all_machines, keys2=all_days, name=lambda ns: \"Maintenance_%s_%s\" % (ns[0],ns[1]))\ndf_maintenance = pd.DataFrame({'maintenance': maintenance})\ndf_maintenance.index.names=['all_machines', 'all_days']"
        },
        {
            "cell_type": "markdown",
            "metadata": {},
            "source": "## Define constraints\n\nConstraints are the rules we must respect when making decisions, for example capacity limits or maintenance crew availability\n\n### Take into account fixed maintenance events\n\nIf any maintenance events have already been planned, these events have to be accounted for by the optimization model.  \n\nIf `fixed_maintenance[m][d] == 1`, then the decision variable `maintenance[m][d]` must also be assigned the value of 1."
        },
        {
            "cell_type": "code",
            "execution_count": 38,
            "metadata": {},
            "outputs": [],
            "source": "fixm = int(df_parameters[df_parameters.id=='fix_maintenance']['value'])\nif fixm == 1:\n    for machine in all_machines:\n        for day in all_days:\n            if (df_fixed_maintenance.maintenance[machine, day] == 1):\n                mdl.add_constraint(maintenance[machine, day] == 1)"
        },
        {
            "cell_type": "markdown",
            "metadata": {},
            "source": "### Take into account reduced production capacity due to maintenance events\n\nThe number of units produced on machine `m` on day `d` (`production[m][d]`) is defined as follows:\n\n   - If planned production number is lower than even reduced capacity, due to potential maintenance on that day, add a more generic constraint\n   \n   `production[m][d] == prod[m][d]` where `prod[m][d]` is the planned production on machine `m` on day `d`.  In this case, a possible maintenance event will not result in reduced production numbers on that day on this machine\n   \n   \n   - Otherwise account for reduced capacity due to a potential maintenance event and make sure assigned production number does not exceed reduced capacity:\n   \n   `production[m][d] == prod[m][d] - (prod[m][d] - capacity[m][d]*(1-maintenance_loss_fraction))*maintenance[m][d]` where maintenance_loss_fraction is the percentage of production volume lost due to a maintenance event on that day."
        },
        {
            "cell_type": "code",
            "execution_count": 39,
            "metadata": {},
            "outputs": [],
            "source": "for machine in all_machines:       \n    maintenance_loss = int(df_machine[df_machine.id==machine]['maintenance loss'])/100.\n    capacity = int(df_machine[df_machine.id==machine]['capacity'])\n    for day in all_days:   \n        prod = df_planned_production.production[machine, day]\n        if (prod <= capacity*(1-maintenance_loss)):\n            mdl.add_constraint( production[machine, day] == prod )\n        else:\n            mdl.add_constraint( production[machine, day] == prod - (prod-capacity*(1-maintenance_loss))*maintenance[machine, day])"
        },
        {
            "cell_type": "markdown",
            "metadata": {},
            "source": "### Each machine should be scheduled for exactly one maintenance event"
        },
        {
            "cell_type": "code",
            "execution_count": 40,
            "metadata": {},
            "outputs": [],
            "source": "for machine in all_machines:       \n    mdl.add_constraint( mdl.sum(maintenance[machine, day] for day in all_days) == 1)"
        },
        {
            "cell_type": "markdown",
            "metadata": {},
            "source": "### Take into account maintenance crew availability\n\nThe number of maintenance crews available is provided as a parameter `maintenance crew size`.  We must define a constraint for each day to make sure that the number of machines scheduled for maintenance on any given day does not exceed `maintenance crew size`."
        },
        {
            "cell_type": "code",
            "execution_count": 41,
            "metadata": {},
            "outputs": [],
            "source": "maintenance_crew_size = int(df_parameters[df_parameters.id=='maintenance crew size']['value'])\n\nfor day in all_days:       \n    mdl.add_constraint( mdl.sum(maintenance[machine, day] for machine in all_machines) <= maintenance_crew_size)"
        },
        {
            "cell_type": "markdown",
            "metadata": {},
            "source": "## KPIs \nHere we define several key KPIs that we can use to compare optimization scenarios. KPIs are *decision expressions*, expressed as function of decision variables, and are available as part of the solution, along with the decision variable values.\n\n### KPI 1: Cost of the solution\n\nThe total cost of the solution, `cost`, is comprised of a number of different components.  When computing the potential cost of scheduling maintenance/repair for a machine on day `day2`, we must take into account the following:\n\n- Production lost due to a machine breaking before maintenance. If the number of units of planned production on day `day2` is greater than the reduced production capacity, due to performed repair (i.e. `production_day2 > capacity*(1-repair_loss)`), we must take into account the opportunity cost of the units never produced: `production_value_unit*prob_break_day2*(production_day2 - capacity*(1-repair_loss))` where `prob_break_day2` is the probability that the machine will break on `day2`.\n\n- Higher cost of repair if a machine breaks before planned maintenance: `cost_of_repair*prob_break_before` where `prob_break_before` is the total probability that the machine breaks before `day2`\n\n- Cost of the maintenance procedure if the machine hasn't failed by `day2`: `cost_of_maintenance*(1-prob_break_before)`\n\n- Potential cost of lost production due to a maintenance event.  If the number of units of planned production on day `day2` is greater than the reduced production capacity, due to performed maintenance (i.e. `production_day > capacity*(1-maintenance_loss)`), we must take into account the opportunity cost of the units never produced: `production_value_unit*(production_day - capacity*(1-maintenance_loss))`\n\n- Cost of maintenance performed too early: `loss_per_life_day*lost_days` where `lost_days` is the number of machine life days remaining (before required maintenance)\n"
        },
        {
            "cell_type": "code",
            "execution_count": 42,
            "metadata": {},
            "outputs": [],
            "source": "data_cost_maintenance = []\ndata_cost_maintenance_detail = []\ncost_kpis = []\n\nfor machine in all_machines:  \n    # obtain machine characteristics\n    # for detailed descriptions of the data, please refer to the README file in the project\n    life = int(df_machine[df_machine.id==machine]['remaining life'])\n    capacity = int(df_machine[df_machine.id==machine]['capacity'])\n    cost_of_maintenance = int(df_machine[df_machine.id==machine]['cost of maintenance'])\n    # fraction of production capacity lost due to maintenance\n    maintenance_loss = int(df_machine[df_machine.id==machine]['maintenance loss'])/100.\n    cost_of_repair = int(df_machine[df_machine.id==machine]['cost of repair'])\n    # fraction of production capacity lost due to repair\n    repair_loss = int(df_machine[df_machine.id==machine]['repair loss'])/100.\n    loss_per_life_day = int(df_machine[df_machine.id==machine]['loss per life day'])\n    production_value_unit = int(df_machine[df_machine.id==machine]['production value unit'])\n    \n    previous_day = None\n    for i, day in np.ndenumerate(all_days):\n        cost, prob_break_before, fail_prod_cost, repair_cost, maint_cost, prod_cost, early_maint_cost = 0, 0, 0, 0, 0, 0, 0;\n        \n        if (previous_day != None):\n            # probability that the machine will break before day `day`\n            prob_break_before = int(df_cumul_failure.cumul_failure[machine, previous_day])/100.\n        previous_day = day\n        \n        # Expected cost of lost production if machine fails before maintenance\n        # Here we must sum up over all possible days when the machine actually fails so we can account for all lost days between day2,\n        # when the machine fails, and day when the repair is scheduled.\n        for i2, day2 in np.ndenumerate(all_days):\n            if (i2==i):\n                break\n            prob_break_day2 = int(df_predicted_failure.failure[machine, day2])/100.\n            production_day2 = int(df_planned_production.production[machine, day2])\n            if (production_day2 > capacity*(1-repair_loss)):\n                cur_day_prodloss = production_value_unit*prob_break_day2*(production_day2 - capacity*(1-repair_loss))\n                fail_prod_cost += cur_day_prodloss\n                cost += cur_day_prodloss\n                \n        # Cost of repair if machine fails before maintenance\n        repair_cost = cost_of_repair*prob_break_before\n        cost += repair_cost\n        \n        # Cost of maintenance, if machine doesn't break before maintenance\n        maint_cost = cost_of_maintenance*(1-prob_break_before)\n        cost += maint_cost\n        \n        # Cost of lost production on the day of a maintenance event\n        production_day = int(df_planned_production.production[machine, day])\n        if (production_day > capacity*(1-maintenance_loss)):\n            prod_cost = production_value_unit*(production_day - capacity*(1-maintenance_loss))\n            cost += prod_cost\n            \n        # Additional cost incurred due to performing maintenance too early (we don't want to schedule it more often than needed),\n        # when there are still remaining life days\n        early_maint_cost = loss_per_life_day*max(life-i[0], 0)\n        cost += early_maint_cost\n        \n        data_cost_maintenance.append((machine, day, cost))\n        data_cost_maintenance_detail.append((machine, day, fail_prod_cost, repair_cost, maint_cost, prod_cost, early_maint_cost))\n        \n        # cost of maintenance/repair for machine \"machine\" on day \"day\"\n        cost_kpis.append(cost*maintenance[machine, day])\n        \n# sum over all KPIs and attach the sum to the model object    \ncost_kpi = mdl.sum(cost_kpis)\nmdl.add_kpi(cost_kpi, \"Cost\")\n\ndf_cost_maintenance = pd.DataFrame(data_cost_maintenance, columns=['machine', 'day', 'cost_maintenance'])\ndf_cost_maintenance_detail = pd.DataFrame(data_cost_maintenance_detail, columns=['machine', 'day', 'fail_prod_cost', 'repair_cost', 'maint_cost', 'prod_cost', 'early_maint_cost'])"
        },
        {
            "cell_type": "markdown",
            "metadata": {},
            "source": "### KPI 2: Planned production\n\nSum up all the *planned* production numbers provided as input data:"
        },
        {
            "cell_type": "code",
            "execution_count": 43,
            "metadata": {},
            "outputs": [
                {
                    "data": {
                        "text/plain": "DecisionKPI(name=Total Planned Production,expr=7257)"
                    },
                    "execution_count": 43,
                    "metadata": {},
                    "output_type": "execute_result"
                }
            ],
            "source": "total_planned_production = mdl.sum(df_planned_production.production)\nmdl.add_kpi(total_planned_production, \"Total Planned Production\")\n"
        },
        {
            "cell_type": "markdown",
            "metadata": {},
            "source": "### KPI 3: Total production\n\nSum up *actual* production numbers, i.e. the values assigned by the optimization model:"
        },
        {
            "cell_type": "code",
            "execution_count": 44,
            "metadata": {},
            "outputs": [
                {
                    "data": {
                        "text/plain": "DecisionKPI(name=Total Production,expr=Production_M-01_Day-01+Production_M-01_Day-02+Production_M-01_Da..)"
                    },
                    "execution_count": 44,
                    "metadata": {},
                    "output_type": "execute_result"
                }
            ],
            "source": "total_production = mdl.sum(df_production.production)\nmdl.add_kpi(total_production, \"Total Production\")"
        },
        {
            "cell_type": "markdown",
            "metadata": {},
            "source": "## Objective Function\n\nHere we define our goal, i.e. the metric we are optimizing for. More specifically, we use the \"strategy\" parameter, specified as part of our model inputs, that defines the optimization metric. Two optimization metrics are provided: \n\n- If `strategy == 1`, the optimization model will minimize total cost of the solution (**recommended option**)\n- Otherwise, the model will try to assign maintenance in such a way that it minimizes the early and late penalties. In other words, we focus on scheduling maintenance on the optimal day for each machine, given when it is likely to fail, while ignoring any potential impact on the cost."
        },
        {
            "cell_type": "code",
            "execution_count": 45,
            "metadata": {},
            "outputs": [],
            "source": "strategy = int(df_parameters[df_parameters.id=='strategy']['value'])\n\nif (strategy == 1):\n    mdl.minimize(cost_kpi)\nelse:\n    early = 10\n    late = 1000\n    maintenance_penalty = []     \n    for machine in all_machines:           \n        \n        last_day = None\n        for i, day in np.ndenumerate(all_days):\n            last_day = day;\n            cumul_failure = int(df_cumul_failure.cumul_failure[machine, day])\n            if (cumul_failure > 0):                            \n                maintenance_penalty.append(late * maintenance[machine, day] )\n            else:\n                maintenance_penalty.append(early * i[0] * maintenance[machine, day] )\n        \n    maintenance_penalty_kpi = mdl.sum(maintenance_penalty)\n    mdl.minimize(maintenance_penalty_kpi)\n"
        },
        {
            "cell_type": "markdown",
            "metadata": {},
            "source": "# Solve the model\n\nNow we are ready to solve the model and display the KPIs:"
        },
        {
            "cell_type": "code",
            "execution_count": 46,
            "metadata": {},
            "outputs": [
                {
                    "name": "stdout",
                    "output_type": "stream",
                    "text": "WARNING: Number of workers has been reduced to 2 to comply with platform limitations.\nCPXPARAM_Read_DataCheck                          1\nCPXPARAM_Threads                                 2\nFound incumbent of value 2556.100000 after 0.00 sec. (0.01 ticks)\nTried aggregator 1 time.\nMIP Presolve eliminated 100 rows and 150 columns.\nAll rows and columns eliminated.\nPresolve time = 0.00 sec. (0.08 ticks)\n\nRoot node processing (before b&c):\n  Real time             =    0.00 sec. (0.09 ticks)\nParallel b&c, 2 threads:\n  Real time             =    0.00 sec. (0.00 ticks)\n  Sync time (average)   =    0.00 sec.\n  Wait time (average)   =    0.00 sec.\n                          ------------\nTotal (root+branch&cut) =    0.00 sec. (0.09 ticks)\n* model PredictiveMaintenance solved with objective = 2556.100\n*  KPI: Cost                     = 2556.100\n*  KPI: Total Planned Production = 7257.000\n*  KPI: Total Production         = 7105.000\n"
                }
            ],
            "source": "s = mdl.solve(log_output=True)\nassert s, \"solve failed\"\nmdl.report()\n\n\n    "
        },
        {
            "cell_type": "markdown",
            "metadata": {},
            "source": "# Postprocess the solution and populate output tables\n\nPostprocess solution, generate output tables to be used by the Decision Optimization model `Predictive Maintenance` to display outputs in the dashboard"
        },
        {
            "cell_type": "code",
            "execution_count": 47,
            "metadata": {
                "scrolled": true
            },
            "outputs": [
                {
                    "name": "stdout",
                    "output_type": "stream",
                    "text": "                        kpi   value\n0                      Cost  2556.1\n1  Total Planned Production  7257.0\n2          Total Production  7105.0\n"
                }
            ],
            "source": "all_kpis = [(kp.name, kp.compute()) for kp in mdl.iter_kpis()]\ndf_kpis = pd.DataFrame(all_kpis, columns=['kpi', 'value'])\n\ndf_production = df_production.production.apply(lambda v: v.solution_value)\ndf_maintenance = df_maintenance.maintenance.apply(lambda v: v.solution_value)\n\ndf_production = df_production.to_frame()\ndf_production['machine'] = df_production.index.get_level_values('all_machines') \ndf_production['day'] = df_production.index.get_level_values('all_days') \ndf_production.columns = ['production', 'machine', 'day'] \n\n# track production shortage = gap between planned production and actual\nprod_shortage = []\nfor m in all_machines:\n   for d in all_days:\n      prod_shortage.append((m,d,df_planned_production.production[m,d]-df_production.production[m,d]))\n\ndf_production_shortage = pd.DataFrame(prod_shortage, columns=['machine', 'day', 'production_shortage'])\n# end track production shortage\n\ndf_production = df_production.reset_index(drop=True)\n\ndf_maintenance = df_maintenance.to_frame()\ndf_maintenance['machine'] = df_maintenance.index.get_level_values('all_machines') \ndf_maintenance['day'] = df_maintenance.index.get_level_values('all_days') \ndf_maintenance.columns = ['maintenance', 'machine', 'day'] \n\n#track resource load (number of machines maintained each day)\nres_load = []\nfor d in all_days:\n    load = 0\n    for m in all_machines:\n        load += int(df_maintenance.maintenance[m,d])\n    res_load.append((d,load))\ndf_resource_load = pd.DataFrame(res_load, columns=['day', 'load'])\n# end track resource load \n\ndf_cumul_failure['machine'] = df_cumul_failure.index.get_level_values('machine')\ndf_cumul_failure['day'] = df_cumul_failure.index.get_level_values('day')\ndf_cumul_failure.columns = ['failure', 'machine', 'day']\ndf_cumul_failure = df_cumul_failure.reset_index(drop=True)\n\n# detailed maintenance cost\ndf_cost_maintenance_detail['filter'] = df_cost_maintenance_detail.apply(lambda x: df_maintenance.maintenance[x['machine'],x['day']]==1, axis=1)\ndf_cost_maintenance_detail = df_cost_maintenance_detail[df_cost_maintenance_detail['filter'] == True]\ndf_cost_maintenance_detail.drop(['filter'], axis=1, inplace=True)\n\ndf_maintenance = df_maintenance.reset_index(drop=True)\n\n# maintenance kpi: cost breakdown\ndf_cost_maint_sum = df_cost_maintenance_detail.drop(['machine', 'day'], axis=1)\ncost_maint_vals = df_cost_maint_sum.sum().reset_index().values\ndf_maint_kpis = pd.DataFrame(cost_maint_vals, columns=['kpi', 'value'])\n\noutputs = {}\n    \noutputs['cost_maintenance'] = df_cost_maintenance\noutputs['cumul_failure'] = df_cumul_failure\noutputs[\"kpis\"] = df_kpis\noutputs[\"maint_kpis\"] = df_maint_kpis\noutputs[\"maintenance\"] = df_maintenance\noutputs[\"production\"] = df_production\noutputs[\"production_shortage\"] = df_production_shortage\noutputs[\"resource_load\"] = df_resource_load\noutputs['maintenance_cost_detail'] = df_cost_maintenance_detail\n\nprint(df_kpis)"
        },
        {
            "cell_type": "code",
            "execution_count": null,
            "metadata": {},
            "outputs": [],
            "source": ""
        }
    ],
    "metadata": {
        "kernelspec": {
            "display_name": "Python 3.6",
            "language": "python",
            "name": "python3"
        },
        "language_info": {
            "codemirror_mode": {
                "name": "ipython",
                "version": 3
            },
            "file_extension": ".py",
            "mimetype": "text/x-python",
            "name": "python",
            "nbconvert_exporter": "python",
            "pygments_lexer": "ipython3",
            "version": "3.6.8"
        }
    },
    "nbformat": 4,
    "nbformat_minor": 2
}