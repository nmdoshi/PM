{
    "cells": [
        {
            "cell_type": "markdown",
            "metadata": {},
            "source": "![Image of MLDO](https://ibm.box.com/shared/static/ammgpiy7zqfuhdm2s7hwxpjs573lupcv.png)"
        },
        {
            "cell_type": "markdown",
            "metadata": {},
            "source": "# 1. Obtain Data"
        },
        {
            "cell_type": "code",
            "execution_count": 54,
            "metadata": {},
            "outputs": [],
            "source": "from pyspark.ml import Pipeline\nfrom pyspark.ml.regression import DecisionTreeRegressor\nfrom pyspark.ml.feature import VectorIndexer\nfrom pyspark.ml.evaluation import RegressionEvaluator"
        },
        {
            "cell_type": "code",
            "execution_count": 55,
            "metadata": {},
            "outputs": [],
            "source": "from pyspark.context import SparkContext\nfrom pyspark.sql.session import SparkSession\nspark = SparkSession(sc)"
        },
        {
            "cell_type": "code",
            "execution_count": 56,
            "metadata": {},
            "outputs": [
                {
                    "data": {
                        "text/plain": "[Row(life='15', Day-01='88', Day-02='104', Day-03='126', Day-04='94', Day-05='103', Day-06='107', Day-07='126', Day-08='95', Day-09='105', Day-10='120', Day-11='88', Day-12='114', Day-13='126', Day-14='90', Day-15='118', mid='14'),\n Row(life='9', Day-01='121', Day-02='96', Day-03='101', Day-04='98', Day-05='97', Day-06='93', Day-07='132', Day-08='118', Day-09='108', Day-10='139', Day-11='115', Day-12='125', Day-13='120', Day-14='129', Day-15='119', mid='9'),\n Row(life='8', Day-01='90', Day-02='95', Day-03='120', Day-04='126', Day-05='120', Day-06='113', Day-07='116', Day-08='133', Day-09='125', Day-10='125', Day-11='106', Day-12='129', Day-13='96', Day-14='99', Day-15='93', mid='4'),\n Row(life='6', Day-01='72', Day-02='60', Day-03='56', Day-04='65', Day-05='57', Day-06='64', Day-07='74', Day-08='84', Day-09='80', Day-10='84', Day-11='64', Day-12='65', Day-13='80', Day-14='70', Day-15='64', mid='6'),\n Row(life='12', Day-01='74', Day-02='67', Day-03='65', Day-04='74', Day-05='72', Day-06='73', Day-07='80', Day-08='80', Day-09='80', Day-10='80', Day-11='80', Day-12='61', Day-13='80', Day-14='80', Day-15='80', mid='6')]"
                    },
                    "execution_count": 56,
                    "metadata": {},
                    "output_type": "execute_result"
                }
            ],
            "source": "# The code was removed by Watson Studio for sharing."
        },
        {
            "cell_type": "markdown",
            "metadata": {},
            "source": "# 2. Perform data exploration"
        },
        {
            "cell_type": "code",
            "execution_count": 57,
            "metadata": {},
            "outputs": [],
            "source": "data = data.dropna() # drop rows with missing valuesexprs = [col(column).alias(column.replace(' ', '_')) for column in data.columns]"
        },
        {
            "cell_type": "code",
            "execution_count": 58,
            "metadata": {},
            "outputs": [
                {
                    "data": {
                        "text/plain": "DataFrame[summary: string, life: string, Day-01: string, Day-02: string, Day-03: string, Day-04: string, Day-05: string, Day-06: string, Day-07: string, Day-08: string, Day-09: string, Day-10: string, Day-11: string, Day-12: string, Day-13: string, Day-14: string, Day-15: string, mid: string]"
                    },
                    "execution_count": 58,
                    "metadata": {},
                    "output_type": "execute_result"
                }
            ],
            "source": "data.describe()"
        },
        {
            "cell_type": "code",
            "execution_count": 59,
            "metadata": {},
            "outputs": [],
            "source": "from pyspark.sql.functions import col"
        },
        {
            "cell_type": "code",
            "execution_count": 60,
            "metadata": {},
            "outputs": [
                {
                    "name": "stdout",
                    "output_type": "stream",
                    "text": "+----+------+------+------+------+------+------+------+------+------+------+------+------+------+------+------+---+\n|life|Day-01|Day-02|Day-03|Day-04|Day-05|Day-06|Day-07|Day-08|Day-09|Day-10|Day-11|Day-12|Day-13|Day-14|Day-15|mid|\n+----+------+------+------+------+------+------+------+------+------+------+------+------+------+------+------+---+\n|  15|    88|   104|   126|    94|   103|   107|   126|    95|   105|   120|    88|   114|   126|    90|   118| 14|\n|   9|   121|    96|   101|    98|    97|    93|   132|   118|   108|   139|   115|   125|   120|   129|   119|  9|\n|   8|    90|    95|   120|   126|   120|   113|   116|   133|   125|   125|   106|   129|    96|    99|    93|  4|\n|   6|    72|    60|    56|    65|    57|    64|    74|    84|    80|    84|    64|    65|    80|    70|    64|  6|\n|  12|    74|    67|    65|    74|    72|    73|    80|    80|    80|    80|    80|    61|    80|    80|    80|  6|\n|  14|    90|   104|   107|    99|   126|   119|   102|    86|    88|   123|   108|   103|   118|   110|   127|  8|\n|  13|    89|    77|    76|    90|    80|    73|    92|   106|    91|    85|   106|    87|    75|   110|   107| 10|\n|  11|    78|    93|    99|    97|   103|    85|    78|    92|    91|    80|    80|    70|    88|   102|   102|  6|\n|   8|   105|   112|    91|   111|   120|   120|    90|   120|    98|   116|   116|    99|   120|   115|    94|  4|\n|  10|    91|    91|    80|    90|    89|   107|    81|   116|   102|    92|   108|   102|   117|   104|    83|  5|\n|  11|    61|    66|    80|    69|    68|    69|    62|    60|    56|    65|    80|    80|    69|    61|    80|  9|\n|   9|   104|    90|   117|    95|   119|   114|   129|   126|    98|   100|   100|   120|   107|   104|   117|  8|\n|   9|   112|   104|    77|   107|    98|   101|    98|    84|    77|    82|    87|    97|    92|   113|    96|  8|\n|   5|   113|   130|   130|   125|   118|   108|   130|   126|   130|   130|   130|   117|   102|   125|   130|  3|\n|  12|    79|    84|    77|    91|    71|    85|    83|    91|    90|    70|    62|    65|    69|    70|    69| 12|\n|   7|    70|    80|    66|    65|    78|    70|    71|    80|    75|    80|    65|    77|    63|    80|    75|  4|\n|  14|   117|   150|   150|   150|   140|   116|   135|   150|   150|   150|   150|   132|   143|   150|   114| 14|\n|  10|   133|   120|   140|   137|   117|   140|   136|   102|   138|   128|   113|   110|   140|   140|   140|  8|\n|   9|    60|    81|    58|    65|    72|    79|    80|    66|    67|    63|    81|    59|    66|    71|    82|  6|\n|  15|    65|    79|    57|    80|    80|    58|    80|    63|    77|    77|    71|    75|    69|    66|    73| 13|\n+----+------+------+------+------+------+------+------+------+------+------+------+------+------+------+------+---+\nonly showing top 20 rows\n\n"
                }
            ],
            "source": "data.show()"
        },
        {
            "cell_type": "code",
            "execution_count": 61,
            "metadata": {},
            "outputs": [
                {
                    "data": {
                        "text/plain": "[Row(life='15', Day-01='88', Day-02='104', Day-03='126', Day-04='94', Day-05='103', Day-06='107', Day-07='126', Day-08='95', Day-09='105', Day-10='120', Day-11='88', Day-12='114', Day-13='126', Day-14='90', Day-15='118', mid='14'),\n Row(life='9', Day-01='121', Day-02='96', Day-03='101', Day-04='98', Day-05='97', Day-06='93', Day-07='132', Day-08='118', Day-09='108', Day-10='139', Day-11='115', Day-12='125', Day-13='120', Day-14='129', Day-15='119', mid='9'),\n Row(life='8', Day-01='90', Day-02='95', Day-03='120', Day-04='126', Day-05='120', Day-06='113', Day-07='116', Day-08='133', Day-09='125', Day-10='125', Day-11='106', Day-12='129', Day-13='96', Day-14='99', Day-15='93', mid='4'),\n Row(life='6', Day-01='72', Day-02='60', Day-03='56', Day-04='65', Day-05='57', Day-06='64', Day-07='74', Day-08='84', Day-09='80', Day-10='84', Day-11='64', Day-12='65', Day-13='80', Day-14='70', Day-15='64', mid='6'),\n Row(life='12', Day-01='74', Day-02='67', Day-03='65', Day-04='74', Day-05='72', Day-06='73', Day-07='80', Day-08='80', Day-09='80', Day-10='80', Day-11='80', Day-12='61', Day-13='80', Day-14='80', Day-15='80', mid='6')]"
                    },
                    "execution_count": 61,
                    "metadata": {},
                    "output_type": "execute_result"
                }
            ],
            "source": "\ndf2 = data.select(\"life\",\"Day-01\",\"Day-02\",\"Day-03\",\"Day-04\",\"Day-05\",\"Day-06\",\"Day-07\",\"Day-08\",\"Day-09\",\"Day-10\",\"Day-11\",\"Day-12\",\"Day-13\",\"Day-14\",\"Day-15\",\"mid\")\ndf2.take(5)"
        },
        {
            "cell_type": "code",
            "execution_count": 62,
            "metadata": {},
            "outputs": [],
            "source": "\n\nfrom pyspark.sql.types import FloatType\ndf2 = df2.withColumn(\"life\", df2[\"life\"].cast(FloatType()))\ndf2 = df2.withColumn(\"Day-01\", df2[\"Day-01\"].cast(FloatType()))\ndf2 = df2.withColumn(\"Day-02\", df2[\"Day-02\"].cast(FloatType()))\ndf2 = df2.withColumn(\"Day-03\", df2[\"Day-03\"].cast(FloatType()))\ndf2 = df2.withColumn(\"Day-04\", df2[\"Day-04\"].cast(FloatType()))\ndf2 = df2.withColumn(\"Day-05\", df2[\"Day-05\"].cast(FloatType()))\ndf2 = df2.withColumn(\"Day-06\", df2[\"Day-06\"].cast(FloatType()))\ndf2 = df2.withColumn(\"Day-07\", df2[\"Day-07\"].cast(FloatType()))\ndf2 = df2.withColumn(\"Day-08\", df2[\"Day-08\"].cast(FloatType()))\ndf2 = df2.withColumn(\"Day-09\", df2[\"Day-09\"].cast(FloatType()))\ndf2 = df2.withColumn(\"Day-10\", df2[\"Day-10\"].cast(FloatType()))\ndf2 = df2.withColumn(\"Day-11\", df2[\"Day-11\"].cast(FloatType()))\ndf2 = df2.withColumn(\"Day-12\", df2[\"Day-12\"].cast(FloatType()))\ndf2 = df2.withColumn(\"Day-13\", df2[\"Day-13\"].cast(FloatType()))\ndf2 = df2.withColumn(\"Day-14\", df2[\"Day-14\"].cast(FloatType()))\ndf2 = df2.withColumn(\"Day-15\", df2[\"Day-15\"].cast(FloatType()))\ndf2 = df2.withColumn(\"mid\", df2[\"mid\"].cast(FloatType()))"
        },
        {
            "cell_type": "code",
            "execution_count": 63,
            "metadata": {},
            "outputs": [],
            "source": "#df2 = df2.select(\"fDay1\",\"fDay2\",\"fDay3\",\"fDay4\",\"fDay5\",\"fDay6\",\"fDay7\",\"fDay8\",\"fDay9\",\"fDay10\",\"fDay11\",\"fDay12\",\"fDay13\",\"fDay14\",\"fDay15\",\"fmid\")\ndf2.take(5)\nfeatures=[\"life\",\"Day-01\",\"Day-02\",\"Day-03\",\"Day-04\",\"Day-05\",\"Day-06\",\"Day-07\",\"Day-08\",\"Day-09\",\"Day-10\",\"Day-11\",\"Day-12\",\"Day-13\",\"Day-14\",\"Day-15\"]"
        },
        {
            "cell_type": "code",
            "execution_count": 64,
            "metadata": {},
            "outputs": [],
            "source": "from pyspark.ml.feature import OneHotEncoderEstimator, StringIndexer, VectorAssembler\n#stages=[]\n#numericCols = df2\n#label_stringIdx = StringIndexer(inputCol = 'mid', outputCol = 'label')\n#assembler = VectorAssembler(inputCols=numericCols, outputCol=\"features\")\n#stages += [assembler]"
        },
        {
            "cell_type": "code",
            "execution_count": 65,
            "metadata": {},
            "outputs": [],
            "source": "from pyspark.ml.feature import VectorAssembler"
        },
        {
            "cell_type": "code",
            "execution_count": 66,
            "metadata": {},
            "outputs": [
                {
                    "name": "stdout",
                    "output_type": "stream",
                    "text": "root\n |-- label: float (nullable = true)\n |-- life: float (nullable = true)\n |-- Day-01: float (nullable = true)\n |-- Day-02: float (nullable = true)\n |-- Day-03: float (nullable = true)\n |-- Day-04: float (nullable = true)\n |-- Day-05: float (nullable = true)\n |-- Day-06: float (nullable = true)\n |-- Day-07: float (nullable = true)\n |-- Day-08: float (nullable = true)\n |-- Day-09: float (nullable = true)\n |-- Day-10: float (nullable = true)\n |-- Day-11: float (nullable = true)\n |-- Day-12: float (nullable = true)\n |-- Day-13: float (nullable = true)\n |-- Day-14: float (nullable = true)\n |-- Day-15: float (nullable = true)\n\n"
                }
            ],
            "source": "\nlr_data = df2.select(col(\"mid\").alias(\"label\"), *features )\nlr_data.printSchema()"
        },
        {
            "cell_type": "markdown",
            "metadata": {},
            "source": "# 3. Train data"
        },
        {
            "cell_type": "code",
            "execution_count": 67,
            "metadata": {},
            "outputs": [],
            "source": "#split data to train/test"
        },
        {
            "cell_type": "code",
            "execution_count": 68,
            "metadata": {},
            "outputs": [],
            "source": "(training, test) = lr_data.randomSplit([.7, .3])"
        },
        {
            "cell_type": "code",
            "execution_count": 69,
            "metadata": {},
            "outputs": [],
            "source": "#creating ML pipeline "
        },
        {
            "cell_type": "code",
            "execution_count": 70,
            "metadata": {},
            "outputs": [],
            "source": "from pyspark.ml.regression import LinearRegression\n\nvectorAssembler = VectorAssembler(inputCols=features, outputCol=\"features\")\n\nlr = LinearRegression(maxIter=10, regParam=.01)\n\nstages = [vectorAssembler, lr]\npipeline = Pipeline(stages=stages)"
        },
        {
            "cell_type": "code",
            "execution_count": 71,
            "metadata": {},
            "outputs": [],
            "source": "model = pipeline.fit(training)\nprediction = model.transform(test)"
        },
        {
            "cell_type": "code",
            "execution_count": 72,
            "metadata": {},
            "outputs": [
                {
                    "name": "stdout",
                    "output_type": "stream",
                    "text": "+-----+----+------+------+------+------+------+------+------+------+------+------+------+------+------+------+------+--------------------+------------------+\n|label|life|Day-01|Day-02|Day-03|Day-04|Day-05|Day-06|Day-07|Day-08|Day-09|Day-10|Day-11|Day-12|Day-13|Day-14|Day-15|            features|        prediction|\n+-----+----+------+------+------+------+------+------+------+------+------+------+------+------+------+------+------+--------------------+------------------+\n|  3.0| 5.0|  60.0|  80.0|  70.0|  61.0|  58.0|  81.0|  71.0|  79.0|  79.0|  67.0|  64.0|  71.0|  75.0|  63.0|  73.0|[5.0,60.0,80.0,70...|4.0328870314935585|\n|  3.0| 5.0|  75.0|  63.0|  73.0|  65.0|  66.0|  67.0|  61.0|  69.0|  66.0|  72.0|  60.0|  70.0|  53.0|  74.0|  66.0|[5.0,75.0,63.0,73...|4.1172172642723135|\n|  3.0| 5.0|  79.0|  68.0|  70.0|  74.0|  71.0|  76.0|  76.0|  69.0|  68.0|  70.0|  71.0|  58.0|  77.0|  55.0|  69.0|[5.0,79.0,68.0,70...|3.6777531889444046|\n|  3.0| 5.0|  88.0|  70.0|  76.0|  85.0|  88.0|  73.0|  88.0|  77.0|  87.0|  83.0|  70.0|  79.0|  78.0|  80.0|  85.0|[5.0,88.0,70.0,76...|3.7127736934361475|\n|  3.0| 5.0|  89.0|  87.0| 103.0|  87.0|  90.0| 104.0|  98.0|  79.0| 100.0|  75.0|  92.0| 106.0|  84.0|  93.0|  80.0|[5.0,89.0,87.0,10...| 4.540546349404495|\n|  3.0| 5.0|  90.0|  89.0|  80.0|  81.0|  82.0|  71.0|  76.0|  61.0|  88.0|  67.0|  90.0|  78.0|  84.0|  77.0|  60.0|[5.0,90.0,89.0,80...|3.9951937147311143|\n|  3.0| 5.0|  92.0|  95.0|  82.0|  93.0|  97.0|  78.0|  74.0|  82.0|  65.0|  75.0|  79.0|  68.0|  84.0|  96.0|  67.0|[5.0,92.0,95.0,82...| 3.907528715949877|\n|  3.0| 5.0| 119.0| 104.0| 130.0| 111.0| 130.0| 113.0| 115.0| 112.0| 123.0| 130.0| 113.0| 130.0| 130.0| 128.0| 130.0|[5.0,119.0,104.0,...|4.2197655202815945|\n|  3.0| 5.0| 121.0|  98.0| 115.0| 101.0| 108.0| 125.0| 108.0| 123.0| 105.0| 113.0|  96.0| 113.0| 114.0| 115.0| 114.0|[5.0,121.0,98.0,1...| 4.382724602872386|\n|  3.0| 5.0| 122.0| 117.0| 115.0| 130.0| 124.0| 118.0| 124.0| 108.0| 116.0| 138.0| 145.0| 108.0| 150.0| 133.0| 142.0|[5.0,122.0,117.0,...|3.5647868291521325|\n|  3.0| 5.0| 140.0| 108.0| 120.0| 103.0| 136.0| 140.0| 140.0| 128.0| 140.0| 122.0| 100.0| 117.0| 105.0| 139.0| 133.0|[5.0,140.0,108.0,...| 4.698680898432499|\n|  3.0| 5.0| 140.0| 140.0| 112.0| 140.0| 135.0| 140.0| 133.0| 121.0| 134.0| 140.0| 126.0| 123.0| 140.0| 116.0| 140.0|[5.0,140.0,140.0,...|3.7489707111076918|\n|  3.0| 6.0|  59.0|  50.0|  64.0|  54.0|  53.0|  57.0|  56.0|  70.0|  57.0|  52.0|  56.0|  50.0|  61.0|  68.0|  52.0|[6.0,59.0,50.0,64...| 4.649569200982652|\n|  3.0| 6.0|  62.0|  84.0|  57.0|  60.0|  57.0|  84.0|  82.0|  85.0|  85.0|  63.0|  74.0|  66.0|  71.0|  65.0|  65.0|[6.0,62.0,84.0,57...| 4.730501086745998|\n|  3.0| 6.0|  70.0|  51.0|  74.0|  73.0|  66.0|  51.0|  61.0|  60.0|  54.0|  53.0|  54.0|  57.0|  66.0|  58.0|  70.0|[6.0,70.0,51.0,74...|  4.26677431750848|\n|  3.0| 6.0|  70.0|  72.0|  83.0|  86.0|  84.0|  61.0|  85.0|  90.0|  82.0|  80.0|  82.0|  90.0|  68.0|  90.0|  64.0|[6.0,70.0,72.0,83...| 4.640885720238192|\n|  3.0| 6.0|  79.0|  80.0|  66.0|  62.0|  80.0|  80.0|  63.0|  80.0|  71.0|  64.0|  67.0|  80.0|  80.0|  80.0|  78.0|[6.0,79.0,80.0,66...| 4.780620226996942|\n|  3.0| 6.0|  91.0| 116.0|  93.0| 108.0| 120.0|  89.0|  88.0| 101.0|  88.0| 118.0| 120.0| 114.0| 120.0| 102.0| 120.0|[6.0,91.0,116.0,9...| 4.207140708835986|\n|  3.0| 6.0| 100.0|  73.0|  77.0|  93.0|  75.0| 100.0| 100.0| 100.0|  92.0|  75.0| 100.0|  94.0|  99.0|  74.0|  91.0|[6.0,100.0,73.0,7...|4.4124692612866205|\n|  3.0| 6.0| 100.0| 100.0|  83.0|  95.0|  77.0| 100.0|  96.0|  92.0|  77.0|  88.0|  96.0| 100.0| 100.0| 100.0| 100.0|[6.0,100.0,100.0,...| 4.736065701032651|\n+-----+----+------+------+------+------+------+------+------+------+------+------+------+------+------+------+------+--------------------+------------------+\nonly showing top 20 rows\n\n"
                }
            ],
            "source": "prediction.show()"
        },
        {
            "cell_type": "code",
            "execution_count": 73,
            "metadata": {},
            "outputs": [
                {
                    "name": "stdout",
                    "output_type": "stream",
                    "text": "+-----+------------------+\n|label|        prediction|\n+-----+------------------+\n|  3.0|4.0328870314935585|\n|  3.0|4.1172172642723135|\n|  3.0|3.6777531889444046|\n|  3.0|3.7127736934361475|\n|  3.0| 4.540546349404495|\n|  3.0|3.9951937147311143|\n|  3.0| 3.907528715949877|\n|  3.0|4.2197655202815945|\n|  3.0| 4.382724602872386|\n|  3.0|3.5647868291521325|\n|  3.0| 4.698680898432499|\n|  3.0|3.7489707111076918|\n|  3.0| 4.649569200982652|\n|  3.0| 4.730501086745998|\n|  3.0|  4.26677431750848|\n|  3.0| 4.640885720238192|\n|  3.0| 4.780620226996942|\n|  3.0| 4.207140708835986|\n|  3.0|4.4124692612866205|\n|  3.0| 4.736065701032651|\n+-----+------------------+\nonly showing top 20 rows\n\n"
                }
            ],
            "source": "model.transform(test)\\\n    .select(\"label\", \"prediction\")\\\n    .show()"
        },
        {
            "cell_type": "code",
            "execution_count": 74,
            "metadata": {},
            "outputs": [
                {
                    "name": "stdout",
                    "output_type": "stream",
                    "text": "RMSE: 1.758\nMSE: 3.091\nMAE: 1.469\nr2: 0.659\n"
                }
            ],
            "source": "from pyspark.ml.evaluation import RegressionEvaluator\neval = RegressionEvaluator(labelCol=\"label\", predictionCol=\"prediction\", metricName=\"rmse\")\n\n# Root Mean Square Error\nrmse = eval.evaluate(prediction)\nprint(\"RMSE: %.3f\" % rmse)\n\n# Mean Square Error\nmse = eval.evaluate(prediction, {eval.metricName: \"mse\"})\nprint(\"MSE: %.3f\" % mse)\n\n# Mean Absolute Error\nmae = eval.evaluate(prediction, {eval.metricName: \"mae\"})\nprint(\"MAE: %.3f\" % mae)\n\n# r2 - coefficient of determination\nr2 = eval.evaluate(prediction, {eval.metricName: \"r2\"})\nprint(\"r2: %.3f\" %r2)\n"
        },
        {
            "cell_type": "markdown",
            "metadata": {},
            "source": "# 4. Deploy Predictive Model"
        },
        {
            "cell_type": "code",
            "execution_count": 75,
            "metadata": {},
            "outputs": [
                {
                    "name": "stdout",
                    "output_type": "stream",
                    "text": "Collecting watson-machine-learning-client\n  Using cached https://files.pythonhosted.org/packages/b6/47/32daed1eb2169e93108480d7524fffa533f2375d8729d597c4b50cc2a6e8/watson_machine_learning_client-1.0.376-py3-none-any.whl\nCollecting certifi (from watson-machine-learning-client)\n  Using cached https://files.pythonhosted.org/packages/18/b0/8146a4f8dd402f60744fa380bc73ca47303cccf8b9190fd16a827281eac2/certifi-2019.9.11-py2.py3-none-any.whl\nCollecting lomond (from watson-machine-learning-client)\n  Using cached https://files.pythonhosted.org/packages/0f/b1/02eebed49c754b01b17de7705caa8c4ceecfb4f926cdafc220c863584360/lomond-0.3.3-py2.py3-none-any.whl\nCollecting ibm-cos-sdk (from watson-machine-learning-client)\nCollecting tqdm (from watson-machine-learning-client)\n  Using cached https://files.pythonhosted.org/packages/05/f2/764a5d530cf143ded9bc95216edb6e258c6554511e78de7c250557e8f3ed/tqdm-4.37.0-py2.py3-none-any.whl\nCollecting pandas (from watson-machine-learning-client)\n  Using cached https://files.pythonhosted.org/packages/52/3f/f6a428599e0d4497e1595030965b5ba455fd8ade6e977e3c819973c4b41d/pandas-0.25.3-cp36-cp36m-manylinux1_x86_64.whl\nCollecting tabulate (from watson-machine-learning-client)\nCollecting urllib3 (from watson-machine-learning-client)\n  Using cached https://files.pythonhosted.org/packages/e0/da/55f51ea951e1b7c63a579c09dd7db825bb730ec1fe9c0180fc77bfb31448/urllib3-1.25.6-py2.py3-none-any.whl\nCollecting requests (from watson-machine-learning-client)\n  Using cached https://files.pythonhosted.org/packages/51/bd/23c926cd341ea6b7dd0b2a00aba99ae0f828be89d72b2190f27c11d4b7fb/requests-2.22.0-py2.py3-none-any.whl\nCollecting six>=1.10.0 (from lomond->watson-machine-learning-client)\n  Using cached https://files.pythonhosted.org/packages/65/26/32b8464df2a97e6dd1b656ed26b2c194606c16fe163c695a992b36c11cdf/six-1.13.0-py2.py3-none-any.whl\nCollecting jmespath<1.0.0,>=0.7.1 (from ibm-cos-sdk->watson-machine-learning-client)\n  Using cached https://files.pythonhosted.org/packages/83/94/7179c3832a6d45b266ddb2aac329e101367fbdb11f425f13771d27f225bb/jmespath-0.9.4-py2.py3-none-any.whl\nCollecting ibm-cos-sdk-core==2.5.5 (from ibm-cos-sdk->watson-machine-learning-client)\nCollecting ibm-cos-sdk-s3transfer==2.5.5 (from ibm-cos-sdk->watson-machine-learning-client)\nCollecting pytz>=2017.2 (from pandas->watson-machine-learning-client)\n  Using cached https://files.pythonhosted.org/packages/e7/f9/f0b53f88060247251bf481fa6ea62cd0d25bf1b11a87888e53ce5b7c8ad2/pytz-2019.3-py2.py3-none-any.whl\nCollecting python-dateutil>=2.6.1 (from pandas->watson-machine-learning-client)\n  Using cached https://files.pythonhosted.org/packages/d4/70/d60450c3dd48ef87586924207ae8907090de0b306af2bce5d134d78615cb/python_dateutil-2.8.1-py2.py3-none-any.whl\nCollecting numpy>=1.13.3 (from pandas->watson-machine-learning-client)\n  Using cached https://files.pythonhosted.org/packages/0e/46/ae6773894f7eacf53308086287897ec568eac9768918d913d5b9d366c5db/numpy-1.17.3-cp36-cp36m-manylinux1_x86_64.whl\nCollecting chardet<3.1.0,>=3.0.2 (from requests->watson-machine-learning-client)\n  Using cached https://files.pythonhosted.org/packages/bc/a9/01ffebfb562e4274b6487b4bb1ddec7ca55ec7510b22e4c51f14098443b8/chardet-3.0.4-py2.py3-none-any.whl\nCollecting idna<2.9,>=2.5 (from requests->watson-machine-learning-client)\n  Using cached https://files.pythonhosted.org/packages/14/2c/cd551d81dbe15200be1cf41cd03869a46fe7226e7450af7a6545bfc474c9/idna-2.8-py2.py3-none-any.whl\nCollecting docutils<0.16,>=0.10 (from ibm-cos-sdk-core==2.5.5->ibm-cos-sdk->watson-machine-learning-client)\n  Using cached https://files.pythonhosted.org/packages/22/cd/a6aa959dca619918ccb55023b4cb151949c64d4d5d55b3f4ffd7eee0c6e8/docutils-0.15.2-py3-none-any.whl\n\u001b[31mtensorflow 1.13.1 requires tensorboard<1.14.0,>=1.13.0, which is not installed.\u001b[0m\n\u001b[31mbotocore 1.12.82 has requirement urllib3<1.25,>=1.20, but you'll have urllib3 1.25.6 which is incompatible.\u001b[0m\nInstalling collected packages: certifi, six, lomond, jmespath, python-dateutil, chardet, urllib3, idna, requests, docutils, ibm-cos-sdk-core, ibm-cos-sdk-s3transfer, ibm-cos-sdk, tqdm, pytz, numpy, pandas, tabulate, watson-machine-learning-client\nSuccessfully installed certifi-2019.9.11 chardet-3.0.4 docutils-0.15.2 ibm-cos-sdk-2.5.5 ibm-cos-sdk-core-2.5.5 ibm-cos-sdk-s3transfer-2.5.5 idna-2.8 jmespath-0.9.4 lomond-0.3.3 numpy-1.17.3 pandas-0.25.3 python-dateutil-2.8.1 pytz-2019.3 requests-2.22.0 six-1.13.0 tabulate-0.8.5 tqdm-4.37.0 urllib3-1.25.6 watson-machine-learning-client-1.0.376\n\u001b[31mException:\nTraceback (most recent call last):\n  File \"/opt/ibm/conda/miniconda3.6/lib/python3.6/site-packages/pip/_internal/cli/base_command.py\", line 176, in main\n    status = self.run(options, args)\n  File \"/opt/ibm/conda/miniconda3.6/lib/python3.6/site-packages/pip/_internal/commands/install.py\", line 441, in run\n    options.target_dir, target_temp_dir, options.upgrade\n  File \"/opt/ibm/conda/miniconda3.6/lib/python3.6/site-packages/pip/_internal/commands/install.py\", line 492, in _handle_target_dir\n    shutil.rmtree(target_item_dir)\n  File \"/home/spark/conda/envs/python3.6/lib/python3.6/shutil.py\", line 486, in rmtree\n    _rmtree_safe_fd(fd, path, onerror)\n  File \"/home/spark/conda/envs/python3.6/lib/python3.6/shutil.py\", line 424, in _rmtree_safe_fd\n    _rmtree_safe_fd(dirfd, fullname, onerror)\n  File \"/home/spark/conda/envs/python3.6/lib/python3.6/shutil.py\", line 428, in _rmtree_safe_fd\n    onerror(os.rmdir, fullname, sys.exc_info())\n  File \"/home/spark/conda/envs/python3.6/lib/python3.6/shutil.py\", line 426, in _rmtree_safe_fd\n    os.rmdir(name, dir_fd=topfd)\nOSError: [Errno 39] Directory not empty: 'tslibs'\u001b[0m\n"
                }
            ],
            "source": "!pip install watson-machine-learning-client --upgrade"
        },
        {
            "cell_type": "code",
            "execution_count": 76,
            "metadata": {},
            "outputs": [],
            "source": "from watson_machine_learning_client import WatsonMachineLearningAPIClient"
        },
        {
            "cell_type": "code",
            "execution_count": 77,
            "metadata": {},
            "outputs": [],
            "source": "# The code was removed by Watson Studio for sharing."
        },
        {
            "cell_type": "code",
            "execution_count": 78,
            "metadata": {},
            "outputs": [],
            "source": "wml_client = WatsonMachineLearningAPIClient(wml_credentials)"
        },
        {
            "cell_type": "code",
            "execution_count": 79,
            "metadata": {},
            "outputs": [],
            "source": "model_props = {wml_client.repository.ModelMetaNames.AUTHOR_NAME: \"Nerav Doshi\",  \n               wml_client.repository.ModelMetaNames.NAME: \"Predictive Maintenance Model\"}\n\npublished_model = wml_client.repository.store_model(model=model, pipeline=pipeline, meta_props=model_props, training_data=training)"
        },
        {
            "cell_type": "code",
            "execution_count": 80,
            "metadata": {},
            "outputs": [
                {
                    "name": "stdout",
                    "output_type": "stream",
                    "text": "{\n  \"metadata\": {\n    \"guid\": \"e1bf9467-dec0-4cf5-a4cf-47d99fb45a35\",\n    \"url\": \"https://us-south.ml.cloud.ibm.com/v3/wml_instances/ce211bae-2d5c-4278-8eee-3b061501d712/published_models/e1bf9467-dec0-4cf5-a4cf-47d99fb45a35\",\n    \"created_at\": \"2019-11-07T20:05:36.334Z\",\n    \"modified_at\": \"2019-11-07T20:05:36.441Z\"\n  },\n  \"entity\": {\n    \"runtime_environment\": \"spark-2.3\",\n    \"learning_configuration_url\": \"https://us-south.ml.cloud.ibm.com/v3/wml_instances/ce211bae-2d5c-4278-8eee-3b061501d712/published_models/e1bf9467-dec0-4cf5-a4cf-47d99fb45a35/learning_configuration\",\n    \"author\": {\n      \"name\": \"Nerav Doshi\"\n    },\n    \"name\": \"Predictive Maintenance Model\",\n    \"label_col\": \"label\",\n    \"learning_iterations_url\": \"https://us-south.ml.cloud.ibm.com/v3/wml_instances/ce211bae-2d5c-4278-8eee-3b061501d712/published_models/e1bf9467-dec0-4cf5-a4cf-47d99fb45a35/learning_iterations\",\n    \"training_data_schema\": {\n      \"fields\": [\n        {\n          \"metadata\": {\n            \"modeling_role\": \"target\"\n          },\n          \"name\": \"label\",\n          \"nullable\": true,\n          \"type\": \"float\"\n        },\n        {\n          \"metadata\": {},\n          \"name\": \"life\",\n          \"nullable\": true,\n          \"type\": \"float\"\n        },\n        {\n          \"metadata\": {},\n          \"name\": \"Day-01\",\n          \"nullable\": true,\n          \"type\": \"float\"\n        },\n        {\n          \"metadata\": {},\n          \"name\": \"Day-02\",\n          \"nullable\": true,\n          \"type\": \"float\"\n        },\n        {\n          \"metadata\": {},\n          \"name\": \"Day-03\",\n          \"nullable\": true,\n          \"type\": \"float\"\n        },\n        {\n          \"metadata\": {},\n          \"name\": \"Day-04\",\n          \"nullable\": true,\n          \"type\": \"float\"\n        },\n        {\n          \"metadata\": {},\n          \"name\": \"Day-05\",\n          \"nullable\": true,\n          \"type\": \"float\"\n        },\n        {\n          \"metadata\": {},\n          \"name\": \"Day-06\",\n          \"nullable\": true,\n          \"type\": \"float\"\n        },\n        {\n          \"metadata\": {},\n          \"name\": \"Day-07\",\n          \"nullable\": true,\n          \"type\": \"float\"\n        },\n        {\n          \"metadata\": {},\n          \"name\": \"Day-08\",\n          \"nullable\": true,\n          \"type\": \"float\"\n        },\n        {\n          \"metadata\": {},\n          \"name\": \"Day-09\",\n          \"nullable\": true,\n          \"type\": \"float\"\n        },\n        {\n          \"metadata\": {},\n          \"name\": \"Day-10\",\n          \"nullable\": true,\n          \"type\": \"float\"\n        },\n        {\n          \"metadata\": {},\n          \"name\": \"Day-11\",\n          \"nullable\": true,\n          \"type\": \"float\"\n        },\n        {\n          \"metadata\": {},\n          \"name\": \"Day-12\",\n          \"nullable\": true,\n          \"type\": \"float\"\n        },\n        {\n          \"metadata\": {},\n          \"name\": \"Day-13\",\n          \"nullable\": true,\n          \"type\": \"float\"\n        },\n        {\n          \"metadata\": {},\n          \"name\": \"Day-14\",\n          \"nullable\": true,\n          \"type\": \"float\"\n        },\n        {\n          \"metadata\": {},\n          \"name\": \"Day-15\",\n          \"nullable\": true,\n          \"type\": \"float\"\n        }\n      ],\n      \"type\": \"struct\"\n    },\n    \"feedback_url\": \"https://us-south.ml.cloud.ibm.com/v3/wml_instances/ce211bae-2d5c-4278-8eee-3b061501d712/published_models/e1bf9467-dec0-4cf5-a4cf-47d99fb45a35/feedback\",\n    \"latest_version\": {\n      \"url\": \"https://us-south.ml.cloud.ibm.com/v3/ml_assets/models/e1bf9467-dec0-4cf5-a4cf-47d99fb45a35/versions/080deb41-ae98-4579-a9bf-b783d0ecc619\",\n      \"guid\": \"080deb41-ae98-4579-a9bf-b783d0ecc619\",\n      \"created_at\": \"2019-11-07T20:05:36.441Z\"\n    },\n    \"model_type\": \"mllib-2.3\",\n    \"deployments\": {\n      \"count\": 0,\n      \"url\": \"https://us-south.ml.cloud.ibm.com/v3/wml_instances/ce211bae-2d5c-4278-8eee-3b061501d712/published_models/e1bf9467-dec0-4cf5-a4cf-47d99fb45a35/deployments\"\n    },\n    \"evaluation_metrics_url\": \"https://us-south.ml.cloud.ibm.com/v3/wml_instances/ce211bae-2d5c-4278-8eee-3b061501d712/published_models/e1bf9467-dec0-4cf5-a4cf-47d99fb45a35/evaluation_metrics\",\n    \"input_data_schema\": {\n      \"fields\": [\n        {\n          \"metadata\": {},\n          \"name\": \"life\",\n          \"nullable\": true,\n          \"type\": \"float\"\n        },\n        {\n          \"metadata\": {},\n          \"name\": \"Day-01\",\n          \"nullable\": true,\n          \"type\": \"float\"\n        },\n        {\n          \"metadata\": {},\n          \"name\": \"Day-02\",\n          \"nullable\": true,\n          \"type\": \"float\"\n        },\n        {\n          \"metadata\": {},\n          \"name\": \"Day-03\",\n          \"nullable\": true,\n          \"type\": \"float\"\n        },\n        {\n          \"metadata\": {},\n          \"name\": \"Day-04\",\n          \"nullable\": true,\n          \"type\": \"float\"\n        },\n        {\n          \"metadata\": {},\n          \"name\": \"Day-05\",\n          \"nullable\": true,\n          \"type\": \"float\"\n        },\n        {\n          \"metadata\": {},\n          \"name\": \"Day-06\",\n          \"nullable\": true,\n          \"type\": \"float\"\n        },\n        {\n          \"metadata\": {},\n          \"name\": \"Day-07\",\n          \"nullable\": true,\n          \"type\": \"float\"\n        },\n        {\n          \"metadata\": {},\n          \"name\": \"Day-08\",\n          \"nullable\": true,\n          \"type\": \"float\"\n        },\n        {\n          \"metadata\": {},\n          \"name\": \"Day-09\",\n          \"nullable\": true,\n          \"type\": \"float\"\n        },\n        {\n          \"metadata\": {},\n          \"name\": \"Day-10\",\n          \"nullable\": true,\n          \"type\": \"float\"\n        },\n        {\n          \"metadata\": {},\n          \"name\": \"Day-11\",\n          \"nullable\": true,\n          \"type\": \"float\"\n        },\n        {\n          \"metadata\": {},\n          \"name\": \"Day-12\",\n          \"nullable\": true,\n          \"type\": \"float\"\n        },\n        {\n          \"metadata\": {},\n          \"name\": \"Day-13\",\n          \"nullable\": true,\n          \"type\": \"float\"\n        },\n        {\n          \"metadata\": {},\n          \"name\": \"Day-14\",\n          \"nullable\": true,\n          \"type\": \"float\"\n        },\n        {\n          \"metadata\": {},\n          \"name\": \"Day-15\",\n          \"nullable\": true,\n          \"type\": \"float\"\n        }\n      ],\n      \"type\": \"struct\"\n    }\n  }\n}\n"
                }
            ],
            "source": "import json\npublished_model_uid = wml_client.repository.get_model_uid(published_model)\nmodel_details = wml_client.repository.get_details(published_model_uid)\nprint(json.dumps(model_details, indent=2))"
        },
        {
            "cell_type": "code",
            "execution_count": 81,
            "metadata": {},
            "outputs": [
                {
                    "name": "stdout",
                    "output_type": "stream",
                    "text": "------------------------------------  ----------------------------  ------------------------  -----------------\nGUID                                  NAME                          CREATED                   FRAMEWORK\ne1bf9467-dec0-4cf5-a4cf-47d99fb45a35  Predictive Maintenance Model  2019-11-07T20:05:36.334Z  mllib-2.3\n46225946-5d85-4337-beba-e184859a47c0  Predictive Maintenance Model  2019-11-07T19:03:33.937Z  mllib-2.3\n641e606b-33d2-4a02-a709-438d37f583c3  Predictive Maintenance Model  2019-11-07T02:42:42.908Z  mllib-2.3\n7a1a5b3c-5129-448c-aebb-04cbabf05b9f  kidney                        2019-02-14T22:40:35.983Z  spss-modeler-18.1\ned2a90e7-95e6-43fe-a7ca-b97f40be6ece  demo 2                        2019-02-14T19:19:44.039Z  spss-modeler-18.1\n78b13ca9-747c-4eff-af88-eb157fbe3948  ewpo                          2019-02-13T18:20:56.565Z  spss-modeler-18.1\nb225e512-1335-4d88-a3b6-d381e0a3c77c  drug study 1                  2019-02-13T18:00:29.009Z  spss-modeler-18.1\n9b6f03fc-e8fe-4954-b2a1-eceefac5667a  Fraud predictions_automatic   2019-02-13T17:00:55.170Z  wml-1.1\nd7149ebd-60b1-4723-83a8-86af1f0bf9dd  FRAUD_PROBABILITY             2019-02-09T18:41:14.262Z  spss-modeler-18.1\n80482f5e-7851-47b4-bfbd-772cec888ae6  HR Attrition - Biased         2019-01-21T20:23:56.444Z  wml-1.1\n592204b2-316a-427a-a985-a56b5c472097  HR Attrition - Biased         2019-01-21T20:22:45.431Z  wml-1.1\n58b7d408-19ec-4145-891f-dde65b8a86fb  Building code violations      2018-11-06T17:33:03.578Z  wml-1.1\n47da2d27-c10e-4321-99ff-2af212286135  Fraud model - auto            2018-11-06T13:46:03.831Z  wml-1.1\n------------------------------------  ----------------------------  ------------------------  -----------------\n"
                }
            ],
            "source": "#List all models\nwml_client.repository.list_models()"
        },
        {
            "cell_type": "code",
            "execution_count": 82,
            "metadata": {},
            "outputs": [
                {
                    "name": "stdout",
                    "output_type": "stream",
                    "text": "\n\n#######################################################################################\n\nSynchronous deployment creation for uid: 'e1bf9467-dec0-4cf5-a4cf-47d99fb45a35' started\n\n#######################################################################################\n\n\nINITIALIZING\nDEPLOY_IN_PROGRESS....\nDEPLOY_SUCCESS\n\n\n------------------------------------------------------------------------------------------------\nSuccessfully finished deployment creation, deployment_uid='9e4a67d8-1468-49fc-b068-569c01e6b74c'\n------------------------------------------------------------------------------------------------\n\n\n"
                }
            ],
            "source": "created_deployment = wml_client.deployments.create(published_model_uid, name=\"Predictive Maintenance Model Py36 Online Deployment\")"
        },
        {
            "cell_type": "markdown",
            "metadata": {},
            "source": "# 5. Score and test"
        },
        {
            "cell_type": "code",
            "execution_count": 83,
            "metadata": {},
            "outputs": [
                {
                    "name": "stdout",
                    "output_type": "stream",
                    "text": "https://us-south.ml.cloud.ibm.com/v3/wml_instances/ce211bae-2d5c-4278-8eee-3b061501d712/deployments/9e4a67d8-1468-49fc-b068-569c01e6b74c/online\n"
                }
            ],
            "source": "scoring_endpoint = wml_client.deployments.get_scoring_url(created_deployment)\n\nprint(scoring_endpoint)"
        },
        {
            "cell_type": "code",
            "execution_count": 89,
            "metadata": {},
            "outputs": [
                {
                    "name": "stdout",
                    "output_type": "stream",
                    "text": "------------------------------------  ---------------------------------------------------  ------  --------------  ------------------------  -----------------  -------------\nGUID                                  NAME                                                 TYPE    STATE           CREATED                   FRAMEWORK          ARTIFACT TYPE\n9e4a67d8-1468-49fc-b068-569c01e6b74c  Predictive Maintenance Model Py36 Online Deployment  online  DEPLOY_SUCCESS  2019-11-07T20:05:41.170Z  mllib-2.3          model\n6b488d5b-e2c6-4ffa-9cda-e64c931bb195  api2                                                 online  DEPLOY_SUCCESS  2019-02-15T00:25:31.594Z  spss-modeler-18.1  model\nfe6ec487-0ca0-4058-9de7-39ce21f173c2  im an api                                            online  DEPLOY_SUCCESS  2019-02-14T22:41:30.317Z  spss-modeler-18.1  model\nbe71378d-1e7a-48c6-835f-f0885579d249  deployed api                                         online  DEPLOY_SUCCESS  2019-02-14T19:21:35.598Z  spss-modeler-18.1  model\n9ceb4fff-fa56-4547-b2ab-16227dfe1eb2  demo6                                                online  DEPLOY_SUCCESS  2019-02-14T01:14:17.667Z  wml-1.1            model\n23ef4fdf-db64-41ff-b539-58bf0a8449b1  build me                                             online  DEPLOY_SUCCESS  2019-02-13T18:22:42.725Z  spss-modeler-18.1  model\nc2bfa153-a9eb-4833-a28f-7ab7d5f8ca88  drug deploy                                          online  DEPLOY_SUCCESS  2019-02-13T18:01:52.219Z  spss-modeler-18.1  model\n7bcf3f25-5f6d-4b25-ae58-886e40254e77  web app 1                                            online  DEPLOY_SUCCESS  2019-02-09T20:03:23.693Z  spss-modeler-18.1  model\n84aeb0e6-e44a-4d9b-9b88-af4daf1e0e1f  building code web app                                online  DEPLOY_SUCCESS  2018-12-04T12:18:52.540Z  wml-1.1            model\nbdb16c46-7e87-42a6-952f-b351d7153d18  Fraud model - auto-generated                         online  DEPLOY_SUCCESS  2018-11-06T13:48:49.869Z  wml-1.1            model\n------------------------------------  ---------------------------------------------------  ------  --------------  ------------------------  -----------------  -------------\n"
                }
            ],
            "source": "wml_client.deployments.list()"
        },
        {
            "cell_type": "code",
            "execution_count": 88,
            "metadata": {},
            "outputs": [
                {
                    "data": {
                        "text/plain": "'SUCCESS'"
                    },
                    "execution_count": 88,
                    "metadata": {},
                    "output_type": "execute_result"
                }
            ],
            "source": "wml_client.deployments.delete('f7e4b59c-f394-4ff4-a7e4-ae70f16db749')"
        },
        {
            "cell_type": "markdown",
            "metadata": {},
            "source": "## Test model with a REST API call (we will need this for future steps in the notebooks)\n\nThis step demonstrates an \"internal REST API\" call to test the model (for an unpublished model). Notice that we are using internal values for the model endpoint and token. See documentation for external REST call syntax. An external REST call will have a different end point and will require authentication. "
        },
        {
            "cell_type": "code",
            "execution_count": null,
            "metadata": {},
            "outputs": [],
            "source": "scoring_payload = {\n    \"fields\": [\n    \"life\",\n    \"Day-01\",\n    \"Day-02\",\n    \"Day-03\",\n    \"Day-04\",\n    \"Day-05\",\n    \"Day-06\",\n    \"Day-07\",\n    \"Day-08\",\n    \"Day-09\",\n    \"Day-10\",\n    \"Day-11\",\n    \"Day-12\",\n    \"Day-13\",\n    \"Day-14\",\n    \"Day-15\",\n    ],\n    \"values\": [ [5,60,80,70,61,56,78,89,67,89,45,35,80,78,98,73] ]\n} "
        },
        {
            "cell_type": "code",
            "execution_count": null,
            "metadata": {},
            "outputs": [],
            "source": "predictions = wml_client.deployments.score(scoring_endpoint, scoring_payload)"
        },
        {
            "cell_type": "code",
            "execution_count": null,
            "metadata": {},
            "outputs": [],
            "source": "print ('Prediction = {}'.format(predictions))"
        }
    ],
    "metadata": {
        "kernelspec": {
            "display_name": "Python 3.6 with Spark",
            "language": "python3",
            "name": "python36"
        },
        "language_info": {
            "codemirror_mode": {
                "name": "ipython",
                "version": 3
            },
            "file_extension": ".py",
            "mimetype": "text/x-python",
            "name": "python",
            "nbconvert_exporter": "python",
            "pygments_lexer": "ipython3",
            "version": "3.6.8"
        }
    },
    "nbformat": 4,
    "nbformat_minor": 2
}